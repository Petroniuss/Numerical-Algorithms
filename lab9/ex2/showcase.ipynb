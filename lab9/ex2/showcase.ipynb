{
 "cells": [
  {
   "cell_type": "markdown",
   "metadata": {},
   "source": [
    "## Optical Character Recognition\n",
    "\n",
    "Based on conolution theorem.."
   ]
  },
  {
   "cell_type": "code",
   "execution_count": null,
   "metadata": {},
   "outputs": [],
   "source": [
    "## Read image as height x width \n",
    "im = cv2.imread(galia_filename, cv2.IMREAD_GRAYSCALE)\n",
    "height, width = im.shape\n",
    "\n",
    "## Inverse colors\n",
    "im = cv2.bitwise_not(im)\n",
    "\n",
    "## Discrete Fourier Transform (Fast)\n",
    "f_coeffs = fft2(im) \n",
    "\n",
    "## Magnitude && phase of Fourier Coefficients \n",
    "phase = np.angle(f_coeffs)\n",
    "## Looks much interesting ;)\n",
    "magni = np.log10(np.absolute(f_coeffs)) "
   ]
  }
 ],
 "metadata": {
  "kernelspec": {
   "display_name": "Python 3",
   "language": "python",
   "name": "python3"
  },
  "language_info": {
   "codemirror_mode": {
    "name": "ipython",
    "version": 3
   },
   "file_extension": ".py",
   "mimetype": "text/x-python",
   "name": "python",
   "nbconvert_exporter": "python",
   "pygments_lexer": "ipython3",
   "version": "3.7.7"
  }
 },
 "nbformat": 4,
 "nbformat_minor": 2
}
