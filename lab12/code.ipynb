{
 "cells": [
  {
   "cell_type": "markdown",
   "metadata": {},
   "source": [
    "# Quadratures"
   ]
  },
  {
   "cell_type": "code",
   "execution_count": 1,
   "metadata": {},
   "outputs": [],
   "source": [
    "import numpy as np\n",
    "from scipy import integrate\n",
    "from scipy.integrate import quad\n",
    "\n",
    "def f1(x):\n",
    "    x_log = np.log(x)\n",
    "    return np.exp(-(x**2)) * (x_log ** 2)\n",
    "\n",
    "def f2(x):\n",
    "    denom = (x ** 3) - (2 * x) - 5\n",
    "    return 1.0 / denom\n",
    "\n",
    "def f3(x):\n",
    "    return (x ** 5) * np.exp(-x) * np.sin(x)\n",
    "\n",
    "def f4(x, y):\n",
    "    sqr = np.sqrt(x + y)\n",
    "    denom = sqr * (1 + x + y)\n",
    "\n",
    "    return 1.0 / (sqr + denom)\n",
    "\n",
    "def f5(x, y):\n",
    "    return (x ** 2) + (y ** 2)\n",
    "    "
   ]
  },
  {
   "cell_type": "code",
   "execution_count": 2,
   "metadata": {},
   "outputs": [],
   "source": [
    "def sample(f, start_at = 0.0, until = 1.0, step = 0.01):\n",
    "    x = np.arange(start_at, until, step)\n",
    "    y = np.empty(x.shape[0])\n",
    "\n",
    "    for i in range(y.shape[0]):\n",
    "        y[i] = f(x[i])\n",
    "\n",
    "    n = x.shape[0]\n",
    "\n",
    "    ## Return odd number of samples\n",
    "    if n % 2 == 0:\n",
    "        x = x[:n - 1]\n",
    "        y = y[:n - 1]\n",
    "    \n",
    "    return x, y, x[0], x[-1]\n",
    "\n"
   ]
  },
  {
   "cell_type": "markdown",
   "metadata": {},
   "source": [
    "## Simpsons's rule"
   ]
  },
  {
   "cell_type": "code",
   "execution_count": 3,
   "metadata": {},
   "outputs": [],
   "source": [
    "def simpson(x, y):\n",
    "    integral = 0.0\n",
    "    n = x.shape[0]\n",
    "    for i in range(0, n - 2, 2):\n",
    "        h = x[i + 2] - x[i]\n",
    "        integral += h * (y[i] + 4 * y[i + 1] + y[i + 2]) / 6.0\n",
    "\n",
    "    return integral"
   ]
  },
  {
   "cell_type": "markdown",
   "metadata": {},
   "source": [
    "## Veryfing correctness \n",
    "\n",
    "Comparing with scipy's simpson and quad - adaptive quadrature."
   ]
  },
  {
   "cell_type": "code",
   "execution_count": 4,
   "metadata": {},
   "outputs": [
    {
     "output_type": "stream",
     "name": "stdout",
     "text": "Mine:    0.045575\nScipy's: 0.045575\nAdaptive: 0.045573\n--------------------------------\nScipy's simpson and mine are close: True\nAbsolute difference between quad: 2.290973216141634e-06\n"
    }
   ],
   "source": [
    "## Verify correctness\n",
    "\n",
    "x, y, start, end = sample(f1, start_at = .5, step = 0.05)\n",
    "\n",
    "mine = simpson(x, y)\n",
    "scipys = integrate.simps(y, x)\n",
    "adapt = quad(f1, start, end)[0]\n",
    "\n",
    "print('Mine:    ' + '{:.5}'.format(mine))\n",
    "print('Scipy\\'s: ' + '{:.5}'.format(scipys))\n",
    "print('Adaptive: ' + '{:.5}'.format(adapt))\n",
    "print('-' * 32)\n",
    "\n",
    "\n",
    "print('Scipy\\'s simpson and mine are close: ' + str(np.allclose(mine, scipys)))\n",
    "print('Absolute difference between quad: ' + str(np.abs(adapt - mine)))"
   ]
  },
  {
   "cell_type": "code",
   "execution_count": 5,
   "metadata": {},
   "outputs": [
    {
     "output_type": "stream",
     "name": "stdout",
     "text": "Mine:    -0.066353\nScipy's: -0.066353\nAdaptive: -0.066353\n--------------------------------\nScipy's simpson and mine are close: True\nAbsolute difference between quad: 5.958316479093284e-09\n"
    }
   ],
   "source": [
    "## Verify correctness\n",
    "\n",
    "x, y, start, end = sample(f2, start_at = .5, step = 0.05)\n",
    "\n",
    "mine = simpson(x, y)\n",
    "scipys = integrate.simps(y, x)\n",
    "adapt = quad(f2, start, end)[0]\n",
    "\n",
    "print('Mine:    ' + '{:.5}'.format(mine))\n",
    "print('Scipy\\'s: ' + '{:.5}'.format(scipys))\n",
    "print('Adaptive: ' + '{:.5}'.format(adapt))\n",
    "print('-' * 32)\n",
    "\n",
    "\n",
    "print('Scipy\\'s simpson and mine are close: ' + str(np.allclose(mine, scipys)))\n",
    "print('Absolute difference between quad: ' + str(np.abs(adapt - mine)))"
   ]
  },
  {
   "cell_type": "code",
   "execution_count": 6,
   "metadata": {},
   "outputs": [
    {
     "output_type": "stream",
     "name": "stdout",
     "text": "Mine:    0.02745\nScipy's: 0.02745\nAdaptive: 0.02745\n--------------------------------\nScipy's simpson and mine are close: True\nAbsolute difference between quad: 1.0767101298048143e-07\n"
    }
   ],
   "source": [
    "## Verify correctness\n",
    "x, y, start, end = sample(f3, start_at = .5, step = 0.05)\n",
    "\n",
    "mine = simpson(x, y)\n",
    "scipys = integrate.simps(y, x)\n",
    "adapt = quad(f3, start, end)[0]\n",
    "\n",
    "print('Mine:    ' + '{:.5}'.format(mine))\n",
    "print('Scipy\\'s: ' + '{:.5}'.format(scipys))\n",
    "print('Adaptive: ' + '{:.5}'.format(adapt))\n",
    "print('-' * 32)\n",
    "\n",
    "\n",
    "print('Scipy\\'s simpson and mine are close: ' + str(np.allclose(mine, scipys)))\n",
    "print('Absolute difference between quad: ' + str(np.abs(adapt - mine)))"
   ]
  },
  {
   "cell_type": "markdown",
   "metadata": {},
   "source": [
    "\n",
    "The error for tested functions seems to be around $10^{-6}$, which is suprisingly good result given that adaptive quadrature may have used much more samples. "
   ]
  },
  {
   "cell_type": "markdown",
   "metadata": {},
   "source": [
    "## 2D integrals"
   ]
  },
  {
   "cell_type": "code",
   "execution_count": 7,
   "metadata": {},
   "outputs": [],
   "source": [
    "def trapzeoidal(f, x_min, x_max, y_min, y_max, grid_x, grid_y):\n",
    "    integral = 0.0\n",
    "    dx = (x_max - x_min) / grid_x\n",
    "    dy = (y_max - y_min) / grid_y\n",
    "\n",
    "    # Inner points\n",
    "    for j in range(1, grid_y - 1):\n",
    "        y = y_min + (dy * j)\n",
    "        for i in range(1, grid_x - 1):\n",
    "            x = x_min + (dx * i)\n",
    "            integral += f(x, y)\n",
    "\n",
    "    # Outer points\n",
    "    for i in range(1, grid_x - 1):\n",
    "        x = x_min + (i * dx)\n",
    "        integral += f(x, y_max) / 2.0\n",
    "        integral += f(x, y_min) / 2.0\n",
    "\n",
    "    for j in range(1, grid_y - 1):\n",
    "        y = y_min + (j * dy)\n",
    "        integral += f(x_min, y) / 2.0\n",
    "        integral += f(x_max, y) / 2.0\n",
    "\n",
    "    # Corner vertices\n",
    "    integral += f(x_min, y_min) / 4.0\n",
    "    integral += f(x_min, y_max) / 4.0\n",
    "    integral += f(x_max, y_min) / 4.0\n",
    "    integral += f(x_max, y_max) / 4.0\n",
    "\n",
    "    integral *= dx * dy\n",
    "\n",
    "    return integral"
   ]
  },
  {
   "cell_type": "code",
   "execution_count": 13,
   "metadata": {},
   "outputs": [
    {
     "output_type": "stream",
     "name": "stdout",
     "text": "Library's result: 0.25916\n"
    }
   ],
   "source": [
    "x_min, x_max = 0.0, 1.0\n",
    "y_min_f = lambda x: 0 \n",
    "y_max_f = lambda x: 1 - x\n",
    "\n",
    "integral = integrate.dblquad(f4, x_min,x_max, y_min_f, y_max_f)[0]\n",
    "print(f'Library\\'s result: ' + '{:.5}'.format(integral))"
   ]
  },
  {
   "cell_type": "code",
   "execution_count": 11,
   "metadata": {},
   "outputs": [
    {
     "output_type": "stream",
     "name": "stdout",
     "text": "Mine with size: 100x100: 653.94\nScipy's:               680.0\n\nAbsolute difference: 26.06159840000271\n--------------------------------\nMine with size: 1000x1000: 677.29\nScipy's:               680.0\n\nAbsolute difference: 2.708457671846759\n--------------------------------\nMine with size: 1500x1500: 678.19\nScipy's:               680.0\n\nAbsolute difference: 1.8082007924542722\n--------------------------------\nMine with size: 2500x2500: 678.91\nScipy's:               680.0\n\nAbsolute difference: 1.0861515312827805\n--------------------------------\n"
    }
   ],
   "source": [
    "x_min, x_max = -3, 3\n",
    "y_min, y_max = -5, 5\n",
    "y_min_f = lambda x: -5\n",
    "y_max_f = lambda x: 5\n",
    "\n",
    "for grid_size in [100, 1000, 1500, 2500]:\n",
    "    mine = trapzeoidal(f5, x_min, x_max, y_min, y_max, grid_size, grid_size)\n",
    "    scipys = integrate.dblquad(f5, x_min, x_max, y_min_f, y_max_f)[0]\n",
    "    print(f'Mine with size: {grid_size}x{grid_size}: ' + '{:.5}'.format(mine))\n",
    "    print('Scipy\\'s:               ' + '{:.5}'.format(scipys), end = '\\n\\n')\n",
    "    print('Absolute difference: ' + str(np.abs(mine - scipys)))\n",
    "    print('-' * 32)\n",
    "    "
   ]
  }
 ],
 "metadata": {
  "language_info": {
   "codemirror_mode": {
    "name": "ipython",
    "version": 3
   },
   "file_extension": ".py",
   "mimetype": "text/x-python",
   "name": "python",
   "nbconvert_exporter": "python",
   "pygments_lexer": "ipython3",
   "version": "3.7.7-final"
  },
  "orig_nbformat": 2,
  "kernelspec": {
   "name": "python3",
   "display_name": "Python 3"
  }
 },
 "nbformat": 4,
 "nbformat_minor": 2
}