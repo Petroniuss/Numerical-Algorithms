{
 "cells": [
  {
   "cell_type": "code",
   "execution_count": 1,
   "metadata": {},
   "outputs": [],
   "source": [
    "import snap\n",
    "import numpy as np\n",
    "from numpy.linalg import inv\n",
    "from numpy.linalg import norm "
   ]
  },
  {
   "cell_type": "markdown",
   "metadata": {},
   "source": [
    "## Simple pagerank"
   ]
  },
  {
   "cell_type": "code",
   "execution_count": 2,
   "metadata": {},
   "outputs": [],
   "source": [
    "def simple_pagerank(G, eps = 1e-8):\n",
    "    n = G.GetNodes()\n",
    "    A = np.zeros((n, n))\n",
    "\n",
    "    for NI in G.Nodes():\n",
    "        u = NI.GetId()\n",
    "        Nu = len(list(NI.GetOutEdges()))\n",
    "        for v in NI.GetOutEdges():\n",
    "            A[v, u] = 1 / Nu\n",
    "\n",
    "    v = np.full((n, 1), 1 / n)\n",
    "    while True:\n",
    "        prev = v\n",
    "        v = A @ v\n",
    "\n",
    "        if norm(prev - v, ord = 1) < eps:\n",
    "            return v, A"
   ]
  },
  {
   "cell_type": "markdown",
   "metadata": {},
   "source": [
    "Returned vector v is stationary distribution of matrix A (sum of its components equals to eiegenvalue = 1) and it describes probabilites of moving to next state (page)."
   ]
  },
  {
   "cell_type": "code",
   "execution_count": 3,
   "metadata": {},
   "outputs": [
    {
     "output_type": "stream",
     "name": "stdout",
     "text": "[[0.125 ]\n [0.1875]\n [0.375 ]\n [0.3125]]\n"
    }
   ],
   "source": [
    "### Example tested by hand\n",
    "G1 = snap.TNGraph.New()\n",
    "G1.AddNode(0)\n",
    "G1.AddNode(1)\n",
    "G1.AddNode(2)\n",
    "G1.AddNode(3)\n",
    "G1.AddEdge(0,1)\n",
    "G1.AddEdge(0,2)\n",
    "G1.AddEdge(1,3)\n",
    "G1.AddEdge(2,0)\n",
    "G1.AddEdge(2,1)\n",
    "G1.AddEdge(2,3)\n",
    "G1.AddEdge(3,2)\n",
    "\n",
    "v, A = simple_pagerank(G1)\n",
    "print(v)"
   ]
  },
  {
   "cell_type": "markdown",
   "metadata": {},
   "source": [
    "## Pagerank"
   ]
  },
  {
   "cell_type": "code",
   "execution_count": 4,
   "metadata": {},
   "outputs": [],
   "source": [
    "def pagerank(G, d = .9, e = None, eps = 1e-8):\n",
    "    n = G.GetNodes()\n",
    "    A = np.zeros((n, n))\n",
    "\n",
    "    for NI in G.Nodes():\n",
    "        u = NI.GetId()\n",
    "        Nu = len(list(NI.GetOutEdges()))\n",
    "        for v in NI.GetOutEdges():\n",
    "            A[v, u] = 1 / Nu\n",
    "\n",
    "    if e is None:\n",
    "        e = 1 / n * np.ones((n, 1))\n",
    "\n",
    "    B = (d * A) + ((1 - d) * e @ np.ones((1, n)))\n",
    "    v = np.full((n, 1), 1 / n)\n",
    "    while True:\n",
    "        prev = v\n",
    "        v = B @ v\n",
    "        d = norm(prev, ord = 1) - norm(v, ord = 1)\n",
    "        v = v + d * e \n",
    "        delta = norm(v - prev, ord = 1)\n",
    "\n",
    "        if delta < eps:\n",
    "            return v, B"
   ]
  },
  {
   "cell_type": "markdown",
   "metadata": {},
   "source": [
    "If we set d to 1.0 we get exactly the same result simple page_rank becasue we don't allow any \"teleportation\". By default e (E) is uniform distribution over all states (pages). If we choose to use different e we might get \"personalized\" results."
   ]
  },
  {
   "cell_type": "code",
   "execution_count": 5,
   "metadata": {
    "tags": [
     "outputPrepend",
     "outputPrepend",
     "outputPrepend",
     "outputPrepend",
     "outputPrepend",
     "outputPrepend"
    ]
   },
   "outputs": [
    {
     "output_type": "stream",
     "name": "stdout",
     "text": "[[0.125 ]\n [0.1875]\n [0.375 ]\n [0.3125]]\n"
    }
   ],
   "source": [
    "v, B = pagerank(G1, d = 1.0)\n",
    "\n",
    "print(v)"
   ]
  },
  {
   "cell_type": "markdown",
   "metadata": {},
   "source": [
    "## Examples"
   ]
  },
  {
   "cell_type": "markdown",
   "metadata": {},
   "source": [
    "- full graph with 15 vertices. As expected we get equal probabilites for each node."
   ]
  },
  {
   "cell_type": "code",
   "execution_count": 6,
   "metadata": {},
   "outputs": [
    {
     "output_type": "execute_result",
     "data": {
      "text/plain": "array([[0.06666667],\n       [0.06666667],\n       [0.06666667],\n       [0.06666667],\n       [0.06666667],\n       [0.06666667],\n       [0.06666667],\n       [0.06666667],\n       [0.06666667],\n       [0.06666667],\n       [0.06666667],\n       [0.06666667],\n       [0.06666667],\n       [0.06666667],\n       [0.06666667]])"
     },
     "metadata": {},
     "execution_count": 6
    }
   ],
   "source": [
    "G2 = snap.GenFull(snap.PNGraph, 15)\n",
    "v, A = simple_pagerank(G2)\n",
    "v"
   ]
  },
  {
   "cell_type": "markdown",
   "metadata": {},
   "source": [
    "- tree with 3 levels where each parent has 2 children,  "
   ]
  },
  {
   "cell_type": "code",
   "execution_count": 7,
   "metadata": {},
   "outputs": [
    {
     "output_type": "execute_result",
     "data": {
      "text/plain": "array([[0.35348987],\n       [0.11900933],\n       [0.11900933],\n       [0.11900933],\n       [0.03216468],\n       [0.03216468],\n       [0.03216468],\n       [0.03216468],\n       [0.03216468],\n       [0.03216468],\n       [0.03216468],\n       [0.03216468],\n       [0.03216468]])"
     },
     "metadata": {},
     "execution_count": 7
    }
   ],
   "source": [
    "G3 = snap.GenTree(snap.PNGraph, 3, 2)\n",
    "v, A = pagerank(G3)\n",
    "v"
   ]
  },
  {
   "cell_type": "markdown",
   "metadata": {},
   "source": [
    "- Star graph - center node (first one in vector below) contains edges that point to all \n",
    " other nodes but there is no such node that points back at him. So we can access him only via random \"teleportation\"\n",
    " - trying various d settings."
   ]
  },
  {
   "cell_type": "code",
   "execution_count": 8,
   "metadata": {},
   "outputs": [
    {
     "output_type": "execute_result",
     "data": {
      "text/plain": "array([[0.06289308],\n       [0.06693621],\n       [0.06693621],\n       [0.06693621],\n       [0.06693621],\n       [0.06693621],\n       [0.06693621],\n       [0.06693621],\n       [0.06693621],\n       [0.06693621],\n       [0.06693621],\n       [0.06693621],\n       [0.06693621],\n       [0.06693621],\n       [0.06693621]])"
     },
     "metadata": {},
     "execution_count": 8
    }
   ],
   "source": [
    "G4 = snap.GenStar(snap.PNGraph, 15, True)\n",
    "v, A = pagerank(G4)\n",
    "v"
   ]
  },
  {
   "cell_type": "code",
   "execution_count": 9,
   "metadata": {},
   "outputs": [
    {
     "output_type": "execute_result",
     "data": {
      "text/plain": "array([[0.02428869],\n       [0.02523998],\n       [0.04686801],\n       [0.02335972],\n       [0.0286164 ],\n       [0.04149378],\n       [0.02428869],\n       [0.04445033],\n       [0.05437115],\n       [0.08560901],\n       [0.04149378],\n       [0.02341141],\n       [0.00414938],\n       [0.0286164 ],\n       [0.04149378],\n       [0.04149378],\n       [0.04262175],\n       [0.02341141],\n       [0.0316663 ],\n       [0.0316663 ],\n       [0.02335972],\n       [0.06114872],\n       [0.05437115],\n       [0.08537931],\n       [0.06713105]])"
     },
     "metadata": {},
     "execution_count": 9
    }
   ],
   "source": [
    "G5 = snap.GenRndPowerLaw(25, 3)\n",
    "G5 = snap.ConvertGraph(snap.PNGraph, G5)\n",
    "v, A = pagerank(G5, d = .9)\n",
    "v"
   ]
  },
  {
   "cell_type": "code",
   "execution_count": 10,
   "metadata": {},
   "outputs": [
    {
     "output_type": "execute_result",
     "data": {
      "text/plain": "array([[0.02507658],\n       [0.02629218],\n       [0.04724941],\n       [0.02389518],\n       [0.02905815],\n       [0.04140787],\n       [0.02507658],\n       [0.04397618],\n       [0.05375758],\n       [0.08349363],\n       [0.04140787],\n       [0.02395358],\n       [0.00621118],\n       [0.02905815],\n       [0.04140787],\n       [0.04140787],\n       [0.04163758],\n       [0.02395358],\n       [0.03189525],\n       [0.03189525],\n       [0.02389518],\n       [0.0604331 ],\n       [0.05375758],\n       [0.08321884],\n       [0.06658376]])"
     },
     "metadata": {},
     "execution_count": 10
    }
   ],
   "source": [
    "v, A = pagerank(G5,d = .85)\n",
    "v"
   ]
  },
  {
   "cell_type": "code",
   "execution_count": 11,
   "metadata": {},
   "outputs": [
    {
     "output_type": "execute_result",
     "data": {
      "text/plain": "array([[0.02657146],\n       [0.02813005],\n       [0.04752206],\n       [0.02515321],\n       [0.02999063],\n       [0.04123711],\n       [0.02657146],\n       [0.04297398],\n       [0.0524836 ],\n       [0.07937208],\n       [0.04123711],\n       [0.02519154],\n       [0.01030928],\n       [0.02999063],\n       [0.04123711],\n       [0.04123711],\n       [0.04003548],\n       [0.02519154],\n       [0.03240059],\n       [0.03240059],\n       [0.02515321],\n       [0.05891016],\n       [0.0524836 ],\n       [0.07916764],\n       [0.06504874]])"
     },
     "metadata": {},
     "execution_count": 11
    }
   ],
   "source": [
    "v, A = pagerank(G5,d = .75)\n",
    "v"
   ]
  },
  {
   "cell_type": "code",
   "execution_count": 12,
   "metadata": {},
   "outputs": [
    {
     "output_type": "execute_result",
     "data": {
      "text/plain": "array([[0.02877   ],\n       [0.03054754],\n       [0.04718032],\n       [0.02737374],\n       [0.03152585],\n       [0.04098361],\n       [0.02877   ],\n       [0.04152784],\n       [0.05044136],\n       [0.07310226],\n       [0.04098361],\n       [0.02735878],\n       [0.01639344],\n       [0.03152585],\n       [0.04098361],\n       [0.04098361],\n       [0.03833908],\n       [0.02735878],\n       [0.03329918],\n       [0.03329918],\n       [0.02737374],\n       [0.05635246],\n       [0.05044136],\n       [0.07320201],\n       [0.06188278]])"
     },
     "metadata": {},
     "execution_count": 12
    }
   ],
   "source": [
    "v, A = pagerank(G5,d = .6)\n",
    "v"
   ]
  },
  {
   "cell_type": "code",
   "execution_count": 13,
   "metadata": {},
   "outputs": [
    {
     "output_type": "execute_result",
     "data": {
      "text/plain": "array([[0.03028864],\n       [0.03206084],\n       [0.04661072],\n       [0.02903587],\n       [0.03265306],\n       [0.04081633],\n       [0.03028864],\n       [0.04068855],\n       [0.04897959],\n       [0.06868832],\n       [0.04081633],\n       [0.0289942 ],\n       [0.02040816],\n       [0.03265306],\n       [0.04081633],\n       [0.04081633],\n       [0.03762191],\n       [0.0289942 ],\n       [0.03401361],\n       [0.03401361],\n       [0.02903587],\n       [0.05442177],\n       [0.04897959],\n       [0.06902165],\n       [0.05928284]])"
     },
     "metadata": {},
     "execution_count": 13
    }
   ],
   "source": [
    "v, A = pagerank(G5,d = .5)\n",
    "v"
   ]
  },
  {
   "cell_type": "markdown",
   "metadata": {},
   "source": [
    "- Tree graph with e set to high preference for the first page."
   ]
  },
  {
   "cell_type": "code",
   "execution_count": 14,
   "metadata": {},
   "outputs": [
    {
     "output_type": "execute_result",
     "data": {
      "text/plain": "array([[0.86278586],\n       [0.02079002],\n       [0.02079002],\n       [0.02079002],\n       [0.00831601],\n       [0.00831601],\n       [0.00831601],\n       [0.00831601],\n       [0.00831601],\n       [0.00831601],\n       [0.00831601],\n       [0.00831601],\n       [0.00831601]])"
     },
     "metadata": {},
     "execution_count": 14
    }
   ],
   "source": [
    "e = np.ones((13, 1))\n",
    "e[0] = 100\n",
    "e = e / norm(e, ord = 1)\n",
    "\n",
    "G6 = snap.GenTree(snap.PNGraph, 3, 2)\n",
    "v, A = pagerank(G6, e = e, d = 0.5)\n",
    "v"
   ]
  },
  {
   "cell_type": "markdown",
   "metadata": {},
   "source": [
    "- the same graph but this time the preference is set to some other page"
   ]
  },
  {
   "cell_type": "code",
   "execution_count": 15,
   "metadata": {},
   "outputs": [
    {
     "output_type": "execute_result",
     "data": {
      "text/plain": "array([[0.15167095],\n       [0.01285347],\n       [0.01285347],\n       [0.26735218],\n       [0.00514139],\n       [0.00514139],\n       [0.00514139],\n       [0.00514139],\n       [0.00514139],\n       [0.00514139],\n       [0.00514139],\n       [0.00514139],\n       [0.51413882]])"
     },
     "metadata": {},
     "execution_count": 15
    }
   ],
   "source": [
    "e = np.ones((13, 1))\n",
    "e[12] = 100\n",
    "e = e / norm(e, ord = 1)\n",
    "\n",
    "v, A = pagerank(G6, e = e, d = 0.5)\n",
    "v"
   ]
  },
  {
   "cell_type": "markdown",
   "metadata": {},
   "source": [
    "This shows that by modyfing e we can change (customize) distribution."
   ]
  },
  {
   "cell_type": "code",
   "execution_count": null,
   "metadata": {},
   "outputs": [],
   "source": []
  }
 ],
 "metadata": {
  "language_info": {
   "codemirror_mode": {
    "name": "ipython",
    "version": 3
   },
   "file_extension": ".py",
   "mimetype": "text/x-python",
   "name": "python",
   "nbconvert_exporter": "python",
   "pygments_lexer": "ipython3",
   "version": "3.7.6-final"
  },
  "orig_nbformat": 2,
  "kernelspec": {
   "name": "python3",
   "display_name": "Python 3"
  }
 },
 "nbformat": 4,
 "nbformat_minor": 2
}