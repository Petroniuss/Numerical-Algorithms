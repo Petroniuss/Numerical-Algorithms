{
 "cells": [
  {
   "cell_type": "code",
   "execution_count": 1,
   "metadata": {},
   "outputs": [],
   "source": [
    "import numpy as np\n",
    "from numpy.fft import fft2, ifft2\n",
    "import numpy.fft\n",
    "\n",
    "from fft_impl import *"
   ]
  },
  {
   "cell_type": "markdown",
   "metadata": {},
   "source": [
    "## DFT and IDFT\n",
    "\n",
    "checking inverse"
   ]
  },
  {
   "cell_type": "code",
   "execution_count": 2,
   "metadata": {},
   "outputs": [
    {
     "output_type": "stream",
     "name": "stdout",
     "text": "[[0.13843056]\n [0.716588  ]\n [0.13162721]\n [0.73549748]\n [0.81485673]\n [0.41723203]\n [0.54954644]\n [0.42590317]] \n\n [[0.13843056]\n [0.716588  ]\n [0.13162721]\n [0.73549748]\n [0.81485673]\n [0.41723203]\n [0.54954644]\n [0.42590317]]\n"
    },
    {
     "output_type": "execute_result",
     "data": {
      "text/plain": "True"
     },
     "metadata": {},
     "execution_count": 2
    }
   ],
   "source": [
    "x = np.random.rand(8)\n",
    "x = x.reshape(-1, 1)\n",
    "X = dft(x)\n",
    "\n",
    "print(np.real(idft(X)), '\\n\\n', x)\n",
    "\n",
    "np.allclose(np.real(idft(X)), x)"
   ]
  },
  {
   "cell_type": "markdown",
   "metadata": {},
   "source": [
    "checking correctness of dft with numpy"
   ]
  },
  {
   "cell_type": "code",
   "execution_count": 3,
   "metadata": {},
   "outputs": [
    {
     "output_type": "stream",
     "name": "stdout",
     "text": "[[ 3.92968163+0.j        ]\n [-0.68366577-0.01267365j]\n [ 0.27211365+0.02758062j]\n [-0.66918657-0.84851211j]\n [-0.66075973+0.j        ]\n [-0.66918657+0.84851211j]\n [ 0.27211365-0.02758062j]\n [-0.68366577+0.01267365j]] \n\n [[ 3.92968163+0.00000000e+00j]\n [-0.68366577-1.26736405e-02j]\n [ 0.27211365+2.75806200e-02j]\n [-0.66918657-8.48512103e-01j]\n [-0.66075973-1.43357484e-16j]\n [-0.66918657+8.48512103e-01j]\n [ 0.27211365-2.75806200e-02j]\n [-0.68366577+1.26736405e-02j]]\n"
    },
    {
     "output_type": "execute_result",
     "data": {
      "text/plain": "True"
     },
     "metadata": {},
     "execution_count": 3
    }
   ],
   "source": [
    "nump = fft2(x)\n",
    "mine = X\n",
    "\n",
    "print(nump, '\\n\\n', mine)\n",
    "np.allclose(nump, mine)"
   ]
  },
  {
   "cell_type": "markdown",
   "metadata": {},
   "source": [
    "fft "
   ]
  },
  {
   "cell_type": "code",
   "execution_count": 4,
   "metadata": {},
   "outputs": [
    {
     "output_type": "stream",
     "name": "stdout",
     "text": "[[ 3.58989839+0.j        ]\n [-0.46532358-0.18199835j]\n [-0.07228367+0.74349678j]\n [-0.71110868+1.23798838j]\n [ 0.52661324+0.j        ]\n [-0.71110868-1.23798838j]\n [-0.07228367-0.74349678j]\n [-0.46532358+0.18199835j]] \n\n [[ 3.589898  +0.j        ]\n [-0.4653236 -0.18199834j]\n [-0.07228363+0.7434968j ]\n [-0.7111087 +1.2379884j ]\n [ 0.5266131 +0.j        ]\n [-0.7111087 -1.2379884j ]\n [-0.07228363-0.7434968j ]\n [-0.4653236 +0.18199834j]]\n"
    },
    {
     "output_type": "execute_result",
     "data": {
      "text/plain": "True"
     },
     "metadata": {},
     "execution_count": 4
    }
   ],
   "source": [
    "x = np.random.rand(8)\n",
    "nump = np.fft.fft(x).reshape(-1, 1)\n",
    "mine = fft(x).reshape(-1, 1)\n",
    "\n",
    "print(nump, '\\n\\n', mine)\n",
    "np.allclose(nump, mine)"
   ]
  },
  {
   "cell_type": "markdown",
   "metadata": {},
   "source": [
    "## Time comparison with numpy implementation\n",
    "\n",
    "Far far away from numpy's speed .."
   ]
  },
  {
   "cell_type": "code",
   "execution_count": 5,
   "metadata": {},
   "outputs": [
    {
     "output_type": "stream",
     "name": "stdout",
     "text": "Size:  2\nMine:41.6 µs ± 10.7 µs per loop (mean ± std. dev. of 7 runs, 10000 loops each)\nNumpy:8.8 µs ± 1.37 µs per loop (mean ± std. dev. of 7 runs, 100000 loops each)\n------------------------------------\nSize:  4\nMine:141 µs ± 20.2 µs per loop (mean ± std. dev. of 7 runs, 10000 loops each)\nNumpy:8.4 µs ± 1.44 µs per loop (mean ± std. dev. of 7 runs, 100000 loops each)\n------------------------------------\nSize:  8\nMine:330 µs ± 81.4 µs per loop (mean ± std. dev. of 7 runs, 1000 loops each)\nNumpy:9.47 µs ± 2.97 µs per loop (mean ± std. dev. of 7 runs, 100000 loops each)\n------------------------------------\nSize:  16\nMine:901 µs ± 152 µs per loop (mean ± std. dev. of 7 runs, 1000 loops each)\nNumpy:7.76 µs ± 2.2 µs per loop (mean ± std. dev. of 7 runs, 100000 loops each)\n------------------------------------\nSize:  32\nMine:1.92 ms ± 389 µs per loop (mean ± std. dev. of 7 runs, 1000 loops each)\nNumpy:9.34 µs ± 2.11 µs per loop (mean ± std. dev. of 7 runs, 100000 loops each)\n------------------------------------\nSize:  64\nMine:4.95 ms ± 1.14 ms per loop (mean ± std. dev. of 7 runs, 100 loops each)\nNumpy:9.21 µs ± 1.03 µs per loop (mean ± std. dev. of 7 runs, 100000 loops each)\n------------------------------------\nSize:  128\nMine:8.55 ms ± 634 µs per loop (mean ± std. dev. of 7 runs, 100 loops each)\nNumpy:13.9 µs ± 3.39 µs per loop (mean ± std. dev. of 7 runs, 100000 loops each)\n------------------------------------\nSize:  256\nMine:19.8 ms ± 127 µs per loop (mean ± std. dev. of 7 runs, 100 loops each)\nNumpy:13.7 µs ± 104 ns per loop (mean ± std. dev. of 7 runs, 100000 loops each)\n------------------------------------\nSize:  512\nMine:43.9 ms ± 815 µs per loop (mean ± std. dev. of 7 runs, 10 loops each)\nNumpy:21.4 µs ± 1.11 µs per loop (mean ± std. dev. of 7 runs, 10000 loops each)\n------------------------------------\nSize:  1024\nMine:97.2 ms ± 1.96 ms per loop (mean ± std. dev. of 7 runs, 10 loops each)\nNumpy:37.7 µs ± 575 ns per loop (mean ± std. dev. of 7 runs, 10000 loops each)\n------------------------------------\nSize:  2048\nMine:211 ms ± 2.67 ms per loop (mean ± std. dev. of 7 runs, 10 loops each)\nNumpy:72.4 µs ± 603 ns per loop (mean ± std. dev. of 7 runs, 10000 loops each)\n------------------------------------\nSize:  4096\nMine:456 ms ± 9.01 ms per loop (mean ± std. dev. of 7 runs, 1 loop each)\nNumpy:139 µs ± 1.41 µs per loop (mean ± std. dev. of 7 runs, 10000 loops each)\n------------------------------------\nSize:  8192\nMine:1.39 s ± 21.8 ms per loop (mean ± std. dev. of 7 runs, 1 loop each)\nNumpy:302 µs ± 5.36 µs per loop (mean ± std. dev. of 7 runs, 1000 loops each)\n------------------------------------\nSize:  16384\nMine:3.52 s ± 504 ms per loop (mean ± std. dev. of 7 runs, 1 loop each)\nNumpy:822 µs ± 172 µs per loop (mean ± std. dev. of 7 runs, 1000 loops each)\n------------------------------------\nSize:  32768\nMine:5.58 s ± 736 ms per loop (mean ± std. dev. of 7 runs, 1 loop each)\nNumpy:2.63 ms ± 41 µs per loop (mean ± std. dev. of 7 runs, 100 loops each)\n------------------------------------\n"
    }
   ],
   "source": [
    "for i in range(1, 16):\n",
    "    x = np.random.rand(2 ** i)\n",
    "    print('Size: ', 2 ** i)\n",
    "    print('Mine: ',end = '\\t') \n",
    "    %timeit fft(x)\n",
    "    print('Numpy: ',end = '\\t')\n",
    "    %timeit np.fft.fft(x)\n",
    "    print('-' * 36)"
   ]
  },
  {
   "cell_type": "code",
   "execution_count": null,
   "metadata": {},
   "outputs": [],
   "source": []
  }
 ],
 "metadata": {
  "language_info": {
   "codemirror_mode": {
    "name": "ipython",
    "version": 3
   },
   "file_extension": ".py",
   "mimetype": "text/x-python",
   "name": "python",
   "nbconvert_exporter": "python",
   "pygments_lexer": "ipython3",
   "version": "3.7.7-final"
  },
  "orig_nbformat": 2,
  "kernelspec": {
   "name": "python3",
   "display_name": "Python 3"
  }
 },
 "nbformat": 4,
 "nbformat_minor": 2
}